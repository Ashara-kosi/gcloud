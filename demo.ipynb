{
 "cells": [
  {
   "cell_type": "code",
   "execution_count": 1,
   "id": "201a474a-179f-4df6-a407-43fd6380b038",
   "metadata": {},
   "outputs": [],
   "source": [
    "import pandas as pd\n",
    "import tensorflow as tf\n",
    "from tensorflow.keras import Sequential\n",
    "from tensorflow.keras.layers import Dense\n",
    "\n",
    "import numpy as np\n",
    "import json\n",
    "\n",
    "from sklearn.model_selection import train_test_split\n",
    "from sklearn.utils import shuffle\n",
    "from google.cloud import bigquery\n",
    "from witwidget.notebook.visualization import WitWidget, WitConfigBuilder"
   ]
  },
  {
   "cell_type": "code",
   "execution_count": 2,
   "id": "03079625-1e18-4558-86b3-98482dc8229d",
   "metadata": {},
   "outputs": [
    {
     "data": {
      "text/html": [
       "<div>\n",
       "<style scoped>\n",
       "    .dataframe tbody tr th:only-of-type {\n",
       "        vertical-align: middle;\n",
       "    }\n",
       "\n",
       "    .dataframe tbody tr th {\n",
       "        vertical-align: top;\n",
       "    }\n",
       "\n",
       "    .dataframe thead th {\n",
       "        text-align: right;\n",
       "    }\n",
       "</style>\n",
       "<table border=\"1\" class=\"dataframe\">\n",
       "  <thead>\n",
       "    <tr style=\"text-align: right;\">\n",
       "      <th></th>\n",
       "      <th>weight_pounds</th>\n",
       "      <th>is_male</th>\n",
       "      <th>mother_age</th>\n",
       "      <th>plurality</th>\n",
       "      <th>gestation_weeks</th>\n",
       "    </tr>\n",
       "  </thead>\n",
       "  <tbody>\n",
       "    <tr>\n",
       "      <th>0</th>\n",
       "      <td>7.063611</td>\n",
       "      <td>True</td>\n",
       "      <td>32</td>\n",
       "      <td>1</td>\n",
       "      <td>37.0</td>\n",
       "    </tr>\n",
       "    <tr>\n",
       "      <th>1</th>\n",
       "      <td>4.687028</td>\n",
       "      <td>True</td>\n",
       "      <td>30</td>\n",
       "      <td>3</td>\n",
       "      <td>33.0</td>\n",
       "    </tr>\n",
       "    <tr>\n",
       "      <th>2</th>\n",
       "      <td>7.561856</td>\n",
       "      <td>True</td>\n",
       "      <td>20</td>\n",
       "      <td>1</td>\n",
       "      <td>39.0</td>\n",
       "    </tr>\n",
       "    <tr>\n",
       "      <th>3</th>\n",
       "      <td>7.561856</td>\n",
       "      <td>True</td>\n",
       "      <td>31</td>\n",
       "      <td>1</td>\n",
       "      <td>37.0</td>\n",
       "    </tr>\n",
       "    <tr>\n",
       "      <th>4</th>\n",
       "      <td>7.312733</td>\n",
       "      <td>True</td>\n",
       "      <td>32</td>\n",
       "      <td>1</td>\n",
       "      <td>40.0</td>\n",
       "    </tr>\n",
       "  </tbody>\n",
       "</table>\n",
       "</div>"
      ],
      "text/plain": [
       "   weight_pounds  is_male  mother_age  plurality  gestation_weeks\n",
       "0       7.063611     True          32          1             37.0\n",
       "1       4.687028     True          30          3             33.0\n",
       "2       7.561856     True          20          1             39.0\n",
       "3       7.561856     True          31          1             37.0\n",
       "4       7.312733     True          32          1             40.0"
      ]
     },
     "execution_count": 2,
     "metadata": {},
     "output_type": "execute_result"
    }
   ],
   "source": [
    "query=\"\"\"\n",
    "SELECT\n",
    "  weight_pounds,\n",
    "  is_male,\n",
    "  mother_age,\n",
    "  plurality,\n",
    "  gestation_weeks\n",
    "FROM\n",
    "  publicdata.samples.natality\n",
    "WHERE year > 2000\n",
    "LIMIT 10000\n",
    "\"\"\"\n",
    "df = bigquery.Client().query(query).to_dataframe()\n",
    "df.head()"
   ]
  },
  {
   "cell_type": "code",
   "execution_count": 3,
   "id": "a798521d-c8f8-4dc7-8955-91eeda215528",
   "metadata": {},
   "outputs": [
    {
     "data": {
      "text/html": [
       "<div>\n",
       "<style scoped>\n",
       "    .dataframe tbody tr th:only-of-type {\n",
       "        vertical-align: middle;\n",
       "    }\n",
       "\n",
       "    .dataframe tbody tr th {\n",
       "        vertical-align: top;\n",
       "    }\n",
       "\n",
       "    .dataframe thead th {\n",
       "        text-align: right;\n",
       "    }\n",
       "</style>\n",
       "<table border=\"1\" class=\"dataframe\">\n",
       "  <thead>\n",
       "    <tr style=\"text-align: right;\">\n",
       "      <th></th>\n",
       "      <th>weight_pounds</th>\n",
       "      <th>mother_age</th>\n",
       "      <th>plurality</th>\n",
       "      <th>gestation_weeks</th>\n",
       "    </tr>\n",
       "  </thead>\n",
       "  <tbody>\n",
       "    <tr>\n",
       "      <th>count</th>\n",
       "      <td>9997.000000</td>\n",
       "      <td>10000.000000</td>\n",
       "      <td>10000.000000</td>\n",
       "      <td>9886.000000</td>\n",
       "    </tr>\n",
       "    <tr>\n",
       "      <th>mean</th>\n",
       "      <td>7.303938</td>\n",
       "      <td>27.226500</td>\n",
       "      <td>1.033500</td>\n",
       "      <td>38.700890</td>\n",
       "    </tr>\n",
       "    <tr>\n",
       "      <th>std</th>\n",
       "      <td>1.313289</td>\n",
       "      <td>6.194646</td>\n",
       "      <td>0.192825</td>\n",
       "      <td>2.538734</td>\n",
       "    </tr>\n",
       "    <tr>\n",
       "      <th>min</th>\n",
       "      <td>0.595248</td>\n",
       "      <td>13.000000</td>\n",
       "      <td>1.000000</td>\n",
       "      <td>18.000000</td>\n",
       "    </tr>\n",
       "    <tr>\n",
       "      <th>25%</th>\n",
       "      <td>6.624891</td>\n",
       "      <td>22.000000</td>\n",
       "      <td>1.000000</td>\n",
       "      <td>38.000000</td>\n",
       "    </tr>\n",
       "    <tr>\n",
       "      <th>50%</th>\n",
       "      <td>7.374463</td>\n",
       "      <td>27.000000</td>\n",
       "      <td>1.000000</td>\n",
       "      <td>39.000000</td>\n",
       "    </tr>\n",
       "    <tr>\n",
       "      <th>75%</th>\n",
       "      <td>8.126239</td>\n",
       "      <td>32.000000</td>\n",
       "      <td>1.000000</td>\n",
       "      <td>40.000000</td>\n",
       "    </tr>\n",
       "    <tr>\n",
       "      <th>max</th>\n",
       "      <td>12.625874</td>\n",
       "      <td>52.000000</td>\n",
       "      <td>4.000000</td>\n",
       "      <td>47.000000</td>\n",
       "    </tr>\n",
       "  </tbody>\n",
       "</table>\n",
       "</div>"
      ],
      "text/plain": [
       "       weight_pounds    mother_age     plurality  gestation_weeks\n",
       "count    9997.000000  10000.000000  10000.000000      9886.000000\n",
       "mean        7.303938     27.226500      1.033500        38.700890\n",
       "std         1.313289      6.194646      0.192825         2.538734\n",
       "min         0.595248     13.000000      1.000000        18.000000\n",
       "25%         6.624891     22.000000      1.000000        38.000000\n",
       "50%         7.374463     27.000000      1.000000        39.000000\n",
       "75%         8.126239     32.000000      1.000000        40.000000\n",
       "max        12.625874     52.000000      4.000000        47.000000"
      ]
     },
     "execution_count": 3,
     "metadata": {},
     "output_type": "execute_result"
    }
   ],
   "source": [
    "df.describe()\n"
   ]
  },
  {
   "cell_type": "code",
   "execution_count": 4,
   "id": "1699b53d-b428-4b5f-8710-b1591e342035",
   "metadata": {},
   "outputs": [
    {
     "data": {
      "text/plain": [
       "True     5096\n",
       "False    4904\n",
       "Name: is_male, dtype: int64"
      ]
     },
     "execution_count": 4,
     "metadata": {},
     "output_type": "execute_result"
    }
   ],
   "source": [
    "df['is_male'].value_counts()"
   ]
  },
  {
   "cell_type": "code",
   "execution_count": 5,
   "id": "fda20bdd-f65d-4bb7-aca6-9c60ffa759c5",
   "metadata": {},
   "outputs": [],
   "source": [
    "df = df.dropna()\n",
    "df = shuffle(df, random_state=2)"
   ]
  },
  {
   "cell_type": "code",
   "execution_count": 6,
   "id": "6df037ae-89aa-47e8-ba5b-b23c73e374bd",
   "metadata": {},
   "outputs": [],
   "source": [
    "labels = df['weight_pounds']\n",
    "data = df.drop(columns=['weight_pounds'])\n",
    "data['is_male'] = data['is_male'].astype(int)"
   ]
  },
  {
   "cell_type": "code",
   "execution_count": 7,
   "id": "3a9033e1-85ab-4d3f-9a59-4c9090db0c55",
   "metadata": {},
   "outputs": [
    {
     "data": {
      "text/html": [
       "<div>\n",
       "<style scoped>\n",
       "    .dataframe tbody tr th:only-of-type {\n",
       "        vertical-align: middle;\n",
       "    }\n",
       "\n",
       "    .dataframe tbody tr th {\n",
       "        vertical-align: top;\n",
       "    }\n",
       "\n",
       "    .dataframe thead th {\n",
       "        text-align: right;\n",
       "    }\n",
       "</style>\n",
       "<table border=\"1\" class=\"dataframe\">\n",
       "  <thead>\n",
       "    <tr style=\"text-align: right;\">\n",
       "      <th></th>\n",
       "      <th>is_male</th>\n",
       "      <th>mother_age</th>\n",
       "      <th>plurality</th>\n",
       "      <th>gestation_weeks</th>\n",
       "    </tr>\n",
       "  </thead>\n",
       "  <tbody>\n",
       "    <tr>\n",
       "      <th>40</th>\n",
       "      <td>0</td>\n",
       "      <td>18</td>\n",
       "      <td>1</td>\n",
       "      <td>39.0</td>\n",
       "    </tr>\n",
       "    <tr>\n",
       "      <th>5976</th>\n",
       "      <td>0</td>\n",
       "      <td>22</td>\n",
       "      <td>1</td>\n",
       "      <td>47.0</td>\n",
       "    </tr>\n",
       "    <tr>\n",
       "      <th>6902</th>\n",
       "      <td>0</td>\n",
       "      <td>29</td>\n",
       "      <td>1</td>\n",
       "      <td>38.0</td>\n",
       "    </tr>\n",
       "    <tr>\n",
       "      <th>4838</th>\n",
       "      <td>0</td>\n",
       "      <td>32</td>\n",
       "      <td>1</td>\n",
       "      <td>37.0</td>\n",
       "    </tr>\n",
       "    <tr>\n",
       "      <th>8335</th>\n",
       "      <td>1</td>\n",
       "      <td>29</td>\n",
       "      <td>1</td>\n",
       "      <td>39.0</td>\n",
       "    </tr>\n",
       "  </tbody>\n",
       "</table>\n",
       "</div>"
      ],
      "text/plain": [
       "      is_male  mother_age  plurality  gestation_weeks\n",
       "40          0          18          1             39.0\n",
       "5976        0          22          1             47.0\n",
       "6902        0          29          1             38.0\n",
       "4838        0          32          1             37.0\n",
       "8335        1          29          1             39.0"
      ]
     },
     "execution_count": 7,
     "metadata": {},
     "output_type": "execute_result"
    }
   ],
   "source": [
    "data.head()"
   ]
  },
  {
   "cell_type": "code",
   "execution_count": 8,
   "id": "fafc2e1d-f129-4b79-8f1a-9d5af4cb3ce5",
   "metadata": {},
   "outputs": [],
   "source": [
    "x,y = data,labels\n",
    "x_train,x_test,y_train,y_test = train_test_split(x,y)"
   ]
  },
  {
   "cell_type": "code",
   "execution_count": 9,
   "id": "758bc517-7a07-40a4-bb9c-d1ffbc0c1914",
   "metadata": {},
   "outputs": [
    {
     "name": "stderr",
     "output_type": "stream",
     "text": [
      "2021-10-14 13:49:14.362632: I tensorflow/core/platform/profile_utils/cpu_utils.cc:94] CPU Frequency: 2199995000 Hz\n",
      "2021-10-14 13:49:14.364263: I tensorflow/compiler/xla/service/service.cc:168] XLA service 0x56006b8bfcb0 initialized for platform Host (this does not guarantee that XLA will be used). Devices:\n",
      "2021-10-14 13:49:14.364300: I tensorflow/compiler/xla/service/service.cc:176]   StreamExecutor device (0): Host, Default Version\n",
      "2021-10-14 13:49:14.367509: I tensorflow/core/common_runtime/process_util.cc:147] Creating new thread pool with default inter op setting: 2. Tune using inter_op_parallelism_threads for best performance.\n"
     ]
    }
   ],
   "source": [
    "model = Sequential([\n",
    "    Dense(64, activation='relu', input_shape=(len(x_train.iloc[0]),)),\n",
    "    Dense(32, activation='relu'),\n",
    "    Dense(1)]\n",
    ")"
   ]
  },
  {
   "cell_type": "code",
   "execution_count": 10,
   "id": "666875b2-2946-43b9-81c6-51b2cde2d6e1",
   "metadata": {},
   "outputs": [],
   "source": [
    "model.compile(optimizer=tf.keras.optimizers.RMSprop(),\n",
    "              loss=tf.keras.losses.MeanSquaredError(),\n",
    "              metrics=['mae', 'mse'])"
   ]
  },
  {
   "cell_type": "code",
   "execution_count": 11,
   "id": "b0be61db-0d73-41a0-b798-27f731b5c29d",
   "metadata": {},
   "outputs": [
    {
     "name": "stdout",
     "output_type": "stream",
     "text": [
      "Train on 6671 samples, validate on 742 samples\n",
      "Epoch 1/10\n",
      "6671/6671 [==============================] - 2s 337us/sample - loss: 1.6941 - mae: 0.9890 - mse: 1.6941 - val_loss: 1.5937 - val_mae: 0.9799 - val_mse: 1.5937\n",
      "Epoch 2/10\n",
      "6671/6671 [==============================] - 1s 116us/sample - loss: 1.4233 - mae: 0.9353 - mse: 1.4233 - val_loss: 1.3808 - val_mae: 0.9342 - val_mse: 1.3808\n",
      "Epoch 3/10\n",
      "6671/6671 [==============================] - 1s 148us/sample - loss: 1.4172 - mae: 0.9318 - mse: 1.4172 - val_loss: 1.3330 - val_mae: 0.8979 - val_mse: 1.3330\n",
      "Epoch 4/10\n",
      "6671/6671 [==============================] - 1s 205us/sample - loss: 1.3889 - mae: 0.9205 - mse: 1.3889 - val_loss: 1.2489 - val_mae: 0.8703 - val_mse: 1.2489\n",
      "Epoch 5/10\n",
      "6671/6671 [==============================] - 1s 179us/sample - loss: 1.3665 - mae: 0.9148 - mse: 1.3665 - val_loss: 1.4549 - val_mae: 0.9392 - val_mse: 1.4549\n",
      "Epoch 6/10\n",
      "6671/6671 [==============================] - 1s 151us/sample - loss: 1.3290 - mae: 0.9036 - mse: 1.3290 - val_loss: 1.2321 - val_mae: 0.8677 - val_mse: 1.2321\n",
      "Epoch 7/10\n",
      "6671/6671 [==============================] - 1s 146us/sample - loss: 1.3164 - mae: 0.8974 - mse: 1.3164 - val_loss: 1.4368 - val_mae: 0.9332 - val_mse: 1.4368\n",
      "Epoch 8/10\n",
      "6671/6671 [==============================] - 1s 133us/sample - loss: 1.2998 - mae: 0.8945 - mse: 1.2998 - val_loss: 1.6090 - val_mae: 0.9927 - val_mse: 1.6090\n",
      "Epoch 9/10\n",
      "6671/6671 [==============================] - 1s 181us/sample - loss: 1.2856 - mae: 0.8874 - mse: 1.2856 - val_loss: 1.4004 - val_mae: 0.9229 - val_mse: 1.4004\n",
      "Epoch 10/10\n",
      "6671/6671 [==============================] - ETA: 0s - loss: 1.2915 - mae: 0.8886 - mse: 1.291 - 1s 157us/sample - loss: 1.2885 - mae: 0.8878 - mse: 1.2885 - val_loss: 1.5501 - val_mae: 1.0021 - val_mse: 1.5502\n"
     ]
    },
    {
     "data": {
      "text/plain": [
       "<tensorflow.python.keras.callbacks.History at 0x7f66d73d4a10>"
      ]
     },
     "execution_count": 11,
     "metadata": {},
     "output_type": "execute_result"
    }
   ],
   "source": [
    "model.fit(x_train, y_train, epochs=10, validation_split=0.1)"
   ]
  },
  {
   "cell_type": "code",
   "execution_count": 12,
   "id": "24f4f81b-580d-4a0e-b5bc-8315f24f9210",
   "metadata": {},
   "outputs": [],
   "source": [
    "num_examples = 10\n",
    "predictions = model.predict(x_test[:num_examples])"
   ]
  },
  {
   "cell_type": "code",
   "execution_count": 13,
   "id": "80fd4063-3a6f-4886-ae38-1821369844ba",
   "metadata": {},
   "outputs": [
    {
     "name": "stdout",
     "output_type": "stream",
     "text": [
      "Predicted val:  6.406772\n",
      "Actual val:  5.43659938092\n",
      "\n",
      "Predicted val:  5.7045217\n",
      "Actual val:  5.5005334369\n",
      "\n",
      "Predicted val:  6.8090863\n",
      "Actual val:  8.2011961464\n",
      "\n",
      "Predicted val:  6.285322\n",
      "Actual val:  7.25100379718\n",
      "\n",
      "Predicted val:  6.4895077\n",
      "Actual val:  6.84976248034\n",
      "\n",
      "Predicted val:  6.7692904\n",
      "Actual val:  8.046872562999999\n",
      "\n",
      "Predicted val:  6.216803\n",
      "Actual val:  6.93794738514\n",
      "\n",
      "Predicted val:  6.2682524\n",
      "Actual val:  6.1949895622\n",
      "\n",
      "Predicted val:  6.357265\n",
      "Actual val:  7.936641432\n",
      "\n",
      "Predicted val:  6.9858203\n",
      "Actual val:  5.74965579296\n",
      "\n"
     ]
    }
   ],
   "source": [
    "for i in range(num_examples):\n",
    "    print('Predicted val: ', predictions[i][0])\n",
    "    print('Actual val: ',y_test.iloc[i])\n",
    "    print()"
   ]
  },
  {
   "cell_type": "code",
   "execution_count": 14,
   "id": "b977de21-b89b-4a75-8aed-3ce84f01f2ed",
   "metadata": {},
   "outputs": [],
   "source": [
    "wit_data = pd.concat([x_test, y_test], axis=1)"
   ]
  },
  {
   "cell_type": "code",
   "execution_count": 15,
   "id": "d0b9602d-b4dd-433a-acc8-8b21768b19e4",
   "metadata": {},
   "outputs": [],
   "source": [
    "def custom_predict(examples_to_infer):\n",
    "    preds = model.predict(examples_to_infer)\n",
    "    return preds"
   ]
  },
  {
   "cell_type": "code",
   "execution_count": 16,
   "id": "426a6566-3bda-4ac2-852b-eba600494fbf",
   "metadata": {},
   "outputs": [
    {
     "data": {
      "text/html": [
       "<style>.container { width:100% !important; }</style>"
      ],
      "text/plain": [
       "<IPython.core.display.HTML object>"
      ]
     },
     "metadata": {},
     "output_type": "display_data"
    },
    {
     "data": {
      "application/vnd.jupyter.widget-view+json": {
       "model_id": "5339ed272dda4c14b8c9dc27510660c9",
       "version_major": 2,
       "version_minor": 0
      },
      "text/plain": [
       "WitWidget(config={'model_type': 'regression', 'label_vocab': [], 'feature_names': ['is_male', 'mother_age', 'p…"
      ]
     },
     "metadata": {},
     "output_type": "display_data"
    }
   ],
   "source": [
    "config_builder = (WitConfigBuilder(wit_data[:500].values.tolist(), data.columns.tolist() + ['weight_pounds'])\n",
    "  .set_custom_predict_fn(custom_predict)\n",
    "  .set_target_feature('weight_pounds')\n",
    "  .set_model_type('regression'))\n",
    "WitWidget(config_builder, height=800)"
   ]
  }
 ],
 "metadata": {
  "environment": {
   "name": "tf2-gpu.2-1.m81",
   "type": "gcloud",
   "uri": "gcr.io/deeplearning-platform-release/tf2-gpu.2-1:m81"
  },
  "kernelspec": {
   "display_name": "Python 3",
   "language": "python",
   "name": "python3"
  },
  "language_info": {
   "codemirror_mode": {
    "name": "ipython",
    "version": 3
   },
   "file_extension": ".py",
   "mimetype": "text/x-python",
   "name": "python",
   "nbconvert_exporter": "python",
   "pygments_lexer": "ipython3",
   "version": "3.7.10"
  }
 },
 "nbformat": 4,
 "nbformat_minor": 5
}
